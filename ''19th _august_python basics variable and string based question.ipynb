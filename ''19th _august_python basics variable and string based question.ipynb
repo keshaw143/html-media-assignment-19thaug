{
 "cells": [
  {
   "cell_type": "markdown",
   "id": "f1a625e5",
   "metadata": {},
   "source": [
    "# 19th assignment\n"
   ]
  },
  {
   "cell_type": "markdown",
   "id": "7597e927",
   "metadata": {},
   "source": [
    "topic: paython basics variable"
   ]
  },
  {
   "cell_type": "markdown",
   "id": "89ea9b1c",
   "metadata": {},
   "source": [
    "Q1."
   ]
  },
  {
   "cell_type": "code",
   "execution_count": 2,
   "id": "431230f0",
   "metadata": {},
   "outputs": [
    {
     "name": "stdout",
     "output_type": "stream",
     "text": [
      "the value of x is 13\n",
      "the value of y is 12\n"
     ]
    }
   ],
   "source": [
    "x=12\n",
    "y=13\n",
    "x,y=y,x\n",
    "print(\"the value of x is\" ,x)\n",
    "print(\"the value of y is\" ,y)\n"
   ]
  },
  {
   "cell_type": "markdown",
   "id": "a801d93c",
   "metadata": {},
   "source": [
    "Q2."
   ]
  },
  {
   "cell_type": "code",
   "execution_count": 3,
   "id": "e5fd5909",
   "metadata": {},
   "outputs": [
    {
     "name": "stdout",
     "output_type": "stream",
     "text": [
      "area of rectangle 30\n"
     ]
    }
   ],
   "source": [
    "length=5\n",
    "breadth=6\n",
    "area=length*breadth\n",
    "print(\"area of rectangle\" ,area)"
   ]
  },
  {
   "cell_type": "markdown",
   "id": "8afe37b0",
   "metadata": {},
   "source": [
    "Q3."
   ]
  },
  {
   "cell_type": "code",
   "execution_count": 5,
   "id": "05bf34fc",
   "metadata": {},
   "outputs": [
    {
     "name": "stdout",
     "output_type": "stream",
     "text": [
      "enter temperature in celsius: 40\n",
      "the convert value is 104.0\n"
     ]
    }
   ],
   "source": [
    "celsius=int(input(\"enter temperature in celsius: \"))\n",
    "fahrenheit=(celsius*(9/5)+(32))\n",
    "print(\"the convert value is\",fahrenheit)"
   ]
  },
  {
   "cell_type": "code",
   "execution_count": null,
   "id": "1ff813a2",
   "metadata": {},
   "outputs": [],
   "source": []
  },
  {
   "cell_type": "markdown",
   "id": "0a266b28",
   "metadata": {},
   "source": [
    "# Topic: = String based question"
   ]
  },
  {
   "cell_type": "markdown",
   "id": "bebc4c77",
   "metadata": {},
   "source": [
    "Q1."
   ]
  },
  {
   "cell_type": "code",
   "execution_count": 6,
   "id": "30ab1972",
   "metadata": {},
   "outputs": [
    {
     "name": "stdout",
     "output_type": "stream",
     "text": [
      "enter the string: pw skills\n",
      "1\n",
      "2\n",
      "3\n",
      "4\n",
      "5\n",
      "6\n",
      "7\n",
      "8\n",
      "9\n"
     ]
    }
   ],
   "source": [
    "str=input(\"enter the string: \")\n",
    "count=0\n",
    "for char in str:\n",
    "    count=count+1\n",
    "    print(count)"
   ]
  },
  {
   "cell_type": "markdown",
   "id": "2e921660",
   "metadata": {},
   "source": [
    "Q2."
   ]
  },
  {
   "cell_type": "code",
   "execution_count": 16,
   "id": "67e48401",
   "metadata": {},
   "outputs": [
    {
     "name": "stdout",
     "output_type": "stream",
     "text": [
      "enter the sentence: hello my name is keshaw bharti\n",
      "9\n"
     ]
    }
   ],
   "source": [
    "sentence=input(\"enter the sentence: \")\n",
    "count=0\n",
    "l=['a', 'e', 'i', 'o', 'u']\n",
    "for char in sentence:\n",
    "    if char in l:\n",
    "         count=count+1\n",
    "print(count)"
   ]
  },
  {
   "cell_type": "markdown",
   "id": "0a6820cd",
   "metadata": {},
   "source": [
    "Q3."
   ]
  },
  {
   "cell_type": "code",
   "execution_count": 19,
   "id": "2d3c18db",
   "metadata": {},
   "outputs": [
    {
     "name": "stdout",
     "output_type": "stream",
     "text": [
      "enter the string: python\n",
      "reversed string:  nohtyp\n"
     ]
    }
   ],
   "source": [
    "s=input(\"enter the string: \")\n",
    "print(\"reversed string: \",s[len(s)-1::-1])"
   ]
  },
  {
   "cell_type": "markdown",
   "id": "a3414283",
   "metadata": {},
   "source": [
    "Q4."
   ]
  },
  {
   "cell_type": "code",
   "execution_count": 28,
   "id": "52aae67f",
   "metadata": {},
   "outputs": [
    {
     "name": "stdout",
     "output_type": "stream",
     "text": [
      "enter string: madam\n",
      "madam is palindrme\n"
     ]
    }
   ],
   "source": [
    "str=input(\"enter string: \")\n",
    "if str==str[::-1]:\n",
    "    print(str, \"is palindrme\")\n",
    "    \n",
    "\n",
    "\n"
   ]
  },
  {
   "cell_type": "markdown",
   "id": "2fe921c3",
   "metadata": {},
   "source": [
    "Q5."
   ]
  },
  {
   "cell_type": "code",
   "execution_count": 29,
   "id": "660e1dd6",
   "metadata": {},
   "outputs": [
    {
     "name": "stdout",
     "output_type": "stream",
     "text": [
      "ilovemycountry\n"
     ]
    }
   ],
   "source": [
    "str1=\"i love my country\"\n",
    "str1=str1.replace(\" \",\"\")\n",
    "print(str1)"
   ]
  }
 ],
 "metadata": {
  "kernelspec": {
   "display_name": "Python 3 (ipykernel)",
   "language": "python",
   "name": "python3"
  },
  "language_info": {
   "codemirror_mode": {
    "name": "ipython",
    "version": 3
   },
   "file_extension": ".py",
   "mimetype": "text/x-python",
   "name": "python",
   "nbconvert_exporter": "python",
   "pygments_lexer": "ipython3",
   "version": "3.11.4"
  }
 },
 "nbformat": 4,
 "nbformat_minor": 5
}
